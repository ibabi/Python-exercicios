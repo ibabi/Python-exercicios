{
 "cells": [
  {
   "cell_type": "markdown",
   "metadata": {},
   "source": [
    "<img src=\"https://asimov.academy/wp-content/uploads/2021/01/logo.png\" width=\"200\"/>\n",
    "_____________________________________________\n",
    "\n",
    "## Exercícios #1 - Estruturas de dados\n"
   ]
  },
  {
   "cell_type": "markdown",
   "metadata": {},
   "source": [
    "### Exercício 1\n",
    "Utilizando o built-in method input(), crie um programa que receba a altura e o peso de uma pessoa e imprima na tela o IMC da mesma."
   ]
  },
  {
   "cell_type": "code",
   "execution_count": 4,
   "metadata": {},
   "outputs": [
    {
     "name": "stdin",
     "output_type": "stream",
     "text": [
      " Insira a sua altura: 1.65\n",
      " Insira o seu peso: 68\n"
     ]
    },
    {
     "name": "stdout",
     "output_type": "stream",
     "text": [
      "Seu IMC é: 82.42\n"
     ]
    }
   ],
   "source": [
    "altura = float(input('Insira a sua altura:' ))\n",
    "peso = float(input('Insira o seu peso:' ))\n",
    "imc = peso/altura * 2\n",
    "print(\"Seu IMC é: {:.2f}\".format(imc))\n"
   ]
  },
  {
   "cell_type": "markdown",
   "metadata": {},
   "source": [
    "### Exercício 2 \n",
    "Escreva um programa que pergunte o nome completo do usuário e cumprimente o mesmo pelo primeiro nome."
   ]
  },
  {
   "cell_type": "code",
   "execution_count": 9,
   "metadata": {},
   "outputs": [
    {
     "name": "stdin",
     "output_type": "stream",
     "text": [
      "Insira seu nome completo: Bárbara Soares\n"
     ]
    },
    {
     "name": "stdout",
     "output_type": "stream",
     "text": [
      "Olá, Bárbara!\n"
     ]
    }
   ],
   "source": [
    "nome = input('Insira seu nome completo:')\n",
    "primeiro_nome = nome.split(' ')[0]\n",
    "print('Olá, {}!'.format(primeiro_nome))"
   ]
  },
  {
   "cell_type": "markdown",
   "metadata": {},
   "source": [
    "### Exercício 3\n",
    "Desenho um código que extraia o domínio de um e-mail informado."
   ]
  },
  {
   "cell_type": "code",
   "execution_count": 10,
   "metadata": {},
   "outputs": [
    {
     "name": "stdin",
     "output_type": "stream",
     "text": [
      "Insira seu email: zxcbarbara@gmail.com\n"
     ]
    },
    {
     "data": {
      "text/plain": [
       "'gmail.com'"
      ]
     },
     "execution_count": 10,
     "metadata": {},
     "output_type": "execute_result"
    }
   ],
   "source": [
    "email = input('Insira seu email:')\n",
    "dominio = email.split('@')[1]\n",
    "dominio"
   ]
  },
  {
   "cell_type": "markdown",
   "metadata": {},
   "source": [
    "### Exercício 4 \n",
    "Faça um programa para uma loja de tintas. A pessoa informa a área em m2 que deseja pintar, e o script calculará a quantidade de latas de tinta que a pessoa deve comprar e o valor. Considere que cada litro de tinta pinta 3m2, que cada lata contém 18L e que custa R$ 80."
   ]
  },
  {
   "cell_type": "code",
   "execution_count": 17,
   "metadata": {},
   "outputs": [
    {
     "name": "stdin",
     "output_type": "stream",
     "text": [
      "Insira a área que quer pintar: 200\n"
     ]
    },
    {
     "name": "stdout",
     "output_type": "stream",
     "text": [
      "Quantidade de latas: 3 \n",
      " Valor: 240.0\n"
     ]
    }
   ],
   "source": [
    "area = float(input('Insira a área que quer pintar:'))\n",
    "volume = area / 3\n",
    "latas = int(volume / 18)\n",
    "valor = float(latas * 80)\n",
    "print('Quantidade de latas: {} \\nValor: {}'.format(latas, valor))"
   ]
  },
  {
   "cell_type": "markdown",
   "metadata": {},
   "source": [
    "### Exercício 5\n",
    "Faça um Programa que pergunte quanto você ganha por hora e o número de horas trabalhadas no mês. Calcule e mostre o total do seu salário no referido mês, sabendo-se que são descontados 11% para o Imposto de Renda, 8% para o INSS e 5% para o sindicato, faça um programa que nos dê:\n",
    "1. Salário bruto.\n",
    "2. Quanto pagou ao INSS.\n",
    "3. Quanto pagou ao sindicato.\n",
    "4. O salário líquido."
   ]
  },
  {
   "cell_type": "code",
   "execution_count": 25,
   "metadata": {},
   "outputs": [
    {
     "name": "stdin",
     "output_type": "stream",
     "text": [
      "Quanto você ganha por hora: 20\n",
      "Quantas horas você trabalha por mês? 240\n"
     ]
    },
    {
     "name": "stdout",
     "output_type": "stream",
     "text": [
      "=====================\n",
      "========================\n",
      "1. Salário bruto: R$ 4800.00\n",
      "2. Valor pago de IR: R$ 528.00\n",
      "2. Valor pago de INSS: R$ 341.76\n",
      "4. Valo pago ao sindicato: R$ 196.51\n",
      "5. Salário líquido: R$ 3733.73\n"
     ]
    }
   ],
   "source": [
    "qt_hora = float(input('Quanto você ganha por hora:'))\n",
    "horas = int(input('Quantas horas você trabalha por mês?'))\n",
    "salario_b = qt_hora * horas\n",
    "imposto_renda = salario_b * 0.11\n",
    "inss = (salario_b - imposto_renda) * 0.08\n",
    "sindicato = (salario_b - imposto_renda - inss) * 0.05\n",
    "salario_liquido = salario_b - imposto_renda - inss - sindicato\n",
    "print(\"========================\")\n",
    "print(\"1. Salário bruto: R$ {:.2f}\".format(salario_b))\n",
    "print(\"2. Valor pago de IR: R$ {:.2f}\".format(imposto_renda))\n",
    "print(\"2. Valor pago de INSS: R$ {:.2f}\".format(inss))\n",
    "print(\"4. Valo pago ao sindicato: R$ {:.2f}\".format(sindicato))\n",
    "print(\"5. Salário líquido: R$ {:.2f}\".format(salario_liquido))"
   ]
  },
  {
   "cell_type": "code",
   "execution_count": null,
   "metadata": {},
   "outputs": [],
   "source": []
  }
 ],
 "metadata": {
  "kernelspec": {
   "display_name": "Python 3 (ipykernel)",
   "language": "python",
   "name": "python3"
  },
  "language_info": {
   "codemirror_mode": {
    "name": "ipython",
    "version": 3
   },
   "file_extension": ".py",
   "mimetype": "text/x-python",
   "name": "python",
   "nbconvert_exporter": "python",
   "pygments_lexer": "ipython3",
   "version": "3.12.4"
  }
 },
 "nbformat": 4,
 "nbformat_minor": 4
}
