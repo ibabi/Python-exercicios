{
 "cells": [
  {
   "cell_type": "markdown",
   "metadata": {},
   "source": [
    "<img src=\"https://asimov.academy/wp-content/uploads/2021/01/logo.png\" width=\"200\"/>\n",
    "_____________________________________________\n",
    "\n",
    "## Exercícios #2 - Operadores de comparação e laços\n"
   ]
  },
  {
   "cell_type": "markdown",
   "metadata": {},
   "source": [
    "### Exercício 1\n",
    "Faça um programa para a leitura de duas notas parciais de um aluno. O programa deve calcular a média alcançada por aluno e apresentar:\n",
    "- A mensagem \"Aprovado\", se a média alcançada for maior ou igual a 7;\n",
    "- A mensagem \"Reprovado\", se a média for menor do que 7;\n",
    "- A mensagem \"Aprovado com Distinção\", se a média for igual a 10."
   ]
  },
  {
   "cell_type": "code",
   "execution_count": null,
   "metadata": {},
   "outputs": [],
   "source": [
    "nota1 = float(input('Insira a primeira nota do aluno:'))\n",
    "nota2 = float(input('Insira a segunda nota do aluno:'))\n",
    "media = (nota1 + nota2) / 2\n",
    "if media == 10:\n",
    "    print('Aprovado com Distinção')\n",
    "elif media >= 7:\n",
    "    print('Aprovado')\n",
    "elif media < 7:\n",
    "    print('Reprovado')"
   ]
  },
  {
   "cell_type": "markdown",
   "metadata": {},
   "source": [
    "### Exercício 2\n",
    "Escreva um script que leia três números e mostre o maior e o menor deles."
   ]
  },
  {
   "cell_type": "code",
   "execution_count": null,
   "metadata": {},
   "outputs": [],
   "source": [
    "list_nums = []\n",
    "for i in range(3):\n",
    "    print(\"Informe o um número:\")\n",
    "    list_nums.append(int(input()))\n",
    "    \n",
    "list_nums.sort()\n",
    "print(\"========================\")\n",
    "print(\"Maior número: {}\".format(max(list_nums)))\n",
    "print(\"Menor número: {}\".format(min(list_nums)))"
   ]
  },
  {
   "cell_type": "markdown",
   "metadata": {},
   "source": [
    "### Exercício 3 \n",
    "Nome na vertical em escada. \n",
    "\n",
    "F<br>\n",
    "FU<br>\n",
    "FUL<br>\n",
    "FULA<br>\n",
    "FULAN<br>\n",
    "FULANO<br>"
   ]
  },
  {
   "cell_type": "code",
   "execution_count": null,
   "metadata": {},
   "outputs": [],
   "source": [
    "nome = input(\"Insira um nome:\")\n",
    "for i in range(len(nome) + 1):\n",
    "    print(nome[:i].upper())"
   ]
  },
  {
   "cell_type": "markdown",
   "metadata": {},
   "source": [
    "### Exercício 4\n",
    "A série de Fibonacci é formada pela seqüência 1,1,2,3,5,8,13,21,34,55,... (o próximo termo, a partir do terceiro, é sempre gerado a partir do somatório dos últimos dois). Faça um programa capaz de gerar a série até o n−ésimo termo (onde o valor n deve ser inserido pelo usuário)."
   ]
  },
  {
   "cell_type": "code",
   "execution_count": null,
   "metadata": {},
   "outputs": [],
   "source": [
    "n = int(input(\"Insira o n-ésimo termo:\"))\n",
    "a = 0\n",
    "b = 1\n",
    "c = 1\n",
    "for i in range(n):\n",
    "    print(c)\n",
    "    a = b\n",
    "    b = c\n",
    "    c = a + b\n",
    "    \n",
    "    "
   ]
  },
  {
   "cell_type": "markdown",
   "metadata": {},
   "source": [
    "### Exercício 5\n",
    "Faça um programa que leia e valide as seguintes informações:\n",
    "- Nome: maior que 3 caracteres;\n",
    "- Idade: entre 0 e 150;\n",
    "- Salário: maior que zero;\n",
    "- Sexo: 'f' ou 'm';\n",
    "- Estado Civil: 's', 'c', 'v', 'd';"
   ]
  },
  {
   "cell_type": "code",
   "execution_count": null,
   "metadata": {},
   "outputs": [],
   "source": [
    "nome = input(\"Insira o nome:\")\n",
    "if len(nome) < 3:\n",
    "    print(\"O nome deve conter mais de 3 caracteres\")\n",
    "    nome = input(\"Insira o nome:\")\n",
    "idade = int(input(\"Insira a idade: \"))\n",
    "if idade < 0 or idade > 150:\n",
    "    print(\"A idade deve ser maior que zero e menor do que 150.\")\n",
    "    idade = int(input(\"Insira a idade: \"))\n",
    "salario = float(input(\"Insira o salario:\"))\n",
    "if salario == 0 or salario < 0:\n",
    "    print(\"Salário deve ser maior que zero.\")\n",
    "    salario = float(input(\"Insira o salario:\"))\n",
    "sexo = input(\"Insira o sexo:\")\n",
    "if sexo != \"f\" or \"m\":\n",
    "    print(\"Sexo deve ser f ou m.\")\n",
    "    sexo = input(\"Insira o sexo:\")\n",
    "civil = input(\"Insira o estado civil:\")\n",
    "if civil != \"s\" or \"c\" or \"v\" or \"d\":\n",
    "    print(\"Sexo deve ser s, c, v ou d\")\n",
    "    civil = input(\"Insira o estado civil:\")\n"
   ]
  },
  {
   "cell_type": "markdown",
   "metadata": {},
   "source": [
    "### Exercício 6\n",
    "Faça um programa que peça um número inteiro e determine se ele é ou não um número primo. Um número primo é aquele que é divisível somente por ele mesmo e por 1. \n",
    "Dica: Utilize o operador aritmético `%`, que retorna o resto da divisão de dois números."
   ]
  },
  {
   "cell_type": "code",
   "execution_count": 31,
   "metadata": {},
   "outputs": [
    {
     "name": "stdin",
     "output_type": "stream",
     "text": [
      "Insira um número inteiro: 5\n"
     ]
    },
    {
     "name": "stdout",
     "output_type": "stream",
     "text": [
      "========================\n",
      "É primo!\n"
     ]
    }
   ],
   "source": [
    "num = input(\"Insira um número inteiro:\")\n",
    "check = 0\n",
    "for i in range(2, n):\n",
    "    if i == 1 or n:\n",
    "        continue\n",
    "    if n % i == 0:\n",
    "        check = 1\n",
    "        break\n",
    "print(\"========================\")\n",
    "if check == 0:\n",
    "    print(\"É primo!\")\n",
    "else:\n",
    "    print(\"Não é primo!\")"
   ]
  },
  {
   "cell_type": "code",
   "execution_count": null,
   "metadata": {},
   "outputs": [],
   "source": []
  }
 ],
 "metadata": {
  "kernelspec": {
   "display_name": "Python 3 (ipykernel)",
   "language": "python",
   "name": "python3"
  },
  "language_info": {
   "codemirror_mode": {
    "name": "ipython",
    "version": 3
   },
   "file_extension": ".py",
   "mimetype": "text/x-python",
   "name": "python",
   "nbconvert_exporter": "python",
   "pygments_lexer": "ipython3",
   "version": "3.12.4"
  }
 },
 "nbformat": 4,
 "nbformat_minor": 4
}
